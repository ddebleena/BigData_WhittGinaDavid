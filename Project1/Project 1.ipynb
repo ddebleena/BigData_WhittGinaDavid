{
 "cells": [
  {
   "cell_type": "markdown",
   "metadata": {},
   "source": [
    "# Project - 1 : Apache Spark \n",
    "\n",
    "Instructor: Ramesh Yerraballi\n",
    "TA: Madhumitha Sakthi\n",
    "Semester: Fall 2019\n",
    "Due Date: 11:59pm, Monday 9/16\n",
    "\n",
    "This project is based on Map-Reduce Framework. In these you will get to work with Spark and will get to know how \n",
    "does spark work, what functionalities does spark provide, what does map-reduce framework do and why is it useful. \n",
    "\n",
    "In this project you will be implementing a basic song recommender system. You will be given a dataset where there are multiple csv files. These csv files have data corresponding to song play count and song information.\n",
    "\n",
    "The data you would be using will be provided in a zip file along with this notebook. The __msd.zip__ archive contains '_kaggle_visible_evaluation_triplets.txt_'. We will be using the visible part of the testing data to understand the working on Apache Spark.  The user's listening history is provided as: (user, song, play count). In another file, '_kaggle_songs.txt_', each song is marked using an index for easier representation of songs. \n",
    "\n",
    "\n",
    "\n",
    "What to turn in:\n",
    "A zip folder which will have:\n",
    "- Jupyter Notebook\n",
    "- A brief report on what features you used for recommendation. And a brief explanation of flow of your code. For example,  what RDD does what or, why it was created.\n",
    "- datasets folder with the csv files you are using in your notebook.\n",
    "- Notebook should use relative path to the csv files in datasets folder.\n",
    "- Name of the zip folder - <your\\_name>\\_<your\\_partner_name>.zip\n"
   ]
  },
  {
   "cell_type": "markdown",
   "metadata": {},
   "source": [
    "This project consists of 4 questions. \n",
    "1. Create an RDD with _msd_evalutation_triplets.txt_ and replace the song name with the song index from _msd_songs.txt_. Identify the number of songs that do not have any rating. \n",
    "2. Generate song ratings based on the song play count as a normalized score between 0 and 1. \n",
    "3. Identify the popular song based on this rating and recommend songs to user, given user id based on the algorithm used in Movie recommender system from class. \n",
    "4. Using Cosine similarity function, identify pair-wise similarity between each pair of users and generate the top 5 most similar users without an overlap in users. \n",
    "\n",
    "The above list is the higer level idea about the questions. "
   ]
  },
  {
   "cell_type": "code",
   "execution_count": 1,
   "metadata": {},
   "outputs": [],
   "source": [
    "### Starter code ####\n",
    "\n",
    "##### These lines are to tell jupyter where to find Apache Spark ####\n",
    "import findspark\n",
    "findspark.init('C:\\\\apachespark')\n",
    "from pyspark import SparkConf, SparkContext\n",
    "conf = SparkConf().setMaster(\"local[*]\").setAppName(\"Songs\")\n",
    "# There are two configurable parameters\n",
    "# 1. A cluster URL, namely  local  in this example, which tells Spark how to connect\n",
    "# to a cluster.  local  is a special value that runs Spark on one thread on the local\n",
    "# machine, without connecting to a cluster.\n",
    "# 2. An application name, namely  Movies  in this example. This will identify your\n",
    "# application on the cluster manager’s UI if you connect to a cluster.\n",
    "sc = SparkContext(conf = conf)\n",
    "##### These lines are to tell jupyter where to find Apache Spark ####"
   ]
  },
  {
   "cell_type": "code",
   "execution_count": 2,
   "metadata": {},
   "outputs": [
    {
     "data": {
      "text/plain": [
       "['fd50c4007b68a3737fe052d5a4f78ce8aa117f3d', 'SOBONKR12A58A7A7E0', '1']"
      ]
     },
     "execution_count": 2,
     "metadata": {},
     "output_type": "execute_result"
    }
   ],
   "source": [
    "## Read triplet file into RDD\n",
    "triplet_rdd = sc.textFile(r\"kaggle_visible_evaluation_triplets.txt\") \\\n",
    "    .map(lambda line: line.split(\"\\t\")) \n",
    "\n",
    "triplet_rdd.collect()[0]"
   ]
  },
  {
   "cell_type": "code",
   "execution_count": 3,
   "metadata": {},
   "outputs": [
    {
     "data": {
      "text/plain": [
       "[['SOAAADD12AB018A9DD', '1']]"
      ]
     },
     "execution_count": 3,
     "metadata": {},
     "output_type": "execute_result"
    }
   ],
   "source": [
    "## Read song file into RDD\n",
    "songs_rdd = sc.textFile(r\"kaggle_songs.txt\") \\\n",
    "    .map(lambda line: line.split(\" \")) \n",
    "\n",
    "songs_rdd.take(1)"
   ]
  },
  {
   "cell_type": "markdown",
   "metadata": {},
   "source": [
    "## Step 1: \n",
    "Replace song name with song index and identify the number of songs without user history"
   ]
  },
  {
   "cell_type": "code",
   "execution_count": 4,
   "metadata": {},
   "outputs": [
    {
     "data": {
      "text/plain": [
       "[('SOBONKR12A58A7A7E0', ['fd50c4007b68a3737fe052d5a4f78ce8aa117f3d', '1']),\n",
       " ('SOEGIYH12A6D4FC0E3', ['fd50c4007b68a3737fe052d5a4f78ce8aa117f3d', '1']),\n",
       " ('SOFLJQZ12A6D4FADA6', ['fd50c4007b68a3737fe052d5a4f78ce8aa117f3d', '1'])]"
      ]
     },
     "execution_count": 4,
     "metadata": {},
     "output_type": "execute_result"
    }
   ],
   "source": [
    "## Bring the Song name as the first element, make the rest into a list\n",
    "reordered_triplet_rdd = triplet_rdd.map(lambda x : (x[1], [x[0], x[2]]))\n",
    "reordered_triplet_rdd.take(3)"
   ]
  },
  {
   "cell_type": "code",
   "execution_count": 5,
   "metadata": {},
   "outputs": [
    {
     "data": {
      "text/plain": [
       "[('SOAAADD12AB018A9DD', '1')]"
      ]
     },
     "execution_count": 5,
     "metadata": {},
     "output_type": "execute_result"
    }
   ],
   "source": [
    "## Convert songs_rdd into a list of tuples\n",
    "songs_tuple_rdd = songs_rdd.map(lambda x : (x[0], x[1]))\n",
    "songs_tuple_rdd.take(1)"
   ]
  },
  {
   "cell_type": "code",
   "execution_count": 6,
   "metadata": {},
   "outputs": [
    {
     "data": {
      "text/plain": [
       "[('SOAAALJ12AB01828B4', ('12', None)),\n",
       " ('SOAAAQN12AB01856D3',\n",
       "  ('16', ['32cf63cf65787ce7e72fc7fda6ee585979af6582', '1'])),\n",
       " ('SOAAAQN12AB01856D3',\n",
       "  ('16', ['d1b88940eabd4fab860edf68f0f0842e4f902c78', '1']))]"
      ]
     },
     "execution_count": 6,
     "metadata": {},
     "output_type": "execute_result"
    }
   ],
   "source": [
    "## Join songs_tuple_rdd & reordered_triplet_rdd -> make sure the left table is songs_tuple_rdd!!\n",
    "joined_rdd = songs_tuple_rdd.leftOuterJoin(reordered_triplet_rdd)\n",
    "joined_rdd.take(3)"
   ]
  },
  {
   "cell_type": "code",
   "execution_count": 7,
   "metadata": {},
   "outputs": [
    {
     "data": {
      "text/plain": [
       "[('12', None), ('16', ['32cf63cf65787ce7e72fc7fda6ee585979af6582', '1'])]"
      ]
     },
     "execution_count": 7,
     "metadata": {},
     "output_type": "execute_result"
    }
   ],
   "source": [
    "## Get rid of the first index x[0] (song name) and replace it with song index (id)\n",
    "replaced_rdd = joined_rdd.map(lambda x : (x[1][0], x[1][1]))\n",
    "replaced_rdd.take(2)"
   ]
  },
  {
   "cell_type": "code",
   "execution_count": 8,
   "metadata": {},
   "outputs": [
    {
     "name": "stdout",
     "output_type": "stream",
     "text": [
      "There are 223007 songs that do not have any ratings.\n"
     ]
    }
   ],
   "source": [
    "## Filter for songs that do not have user rating\n",
    "no_rating_rdd = replaced_rdd.filter(lambda x : x[1] is None )\n",
    "print(\"There are %d songs that do not have any ratings.\" % (no_rating_rdd.count()))"
   ]
  },
  {
   "cell_type": "markdown",
   "metadata": {},
   "source": [
    "## Step 2:\n",
    "Generate song ratings based on the play_count. For example, if (song_1, 5; song_2, 10; song_3, 5) i.e., song_1 is played 5 times, song_2 is played 10 times and song_3 is played 5 times, the normalized rating score should be 0.25, 0.5 and 0.25 respectively. \n",
    "Similarly, generate the rating for all the songs. You may notice that based on all songs, the rating is almost always very low. So, think of the best way to convert song count to ratings. (Hint: Try generating ratings based on each user's song play history)"
   ]
  },
  {
   "cell_type": "code",
   "execution_count": 9,
   "metadata": {},
   "outputs": [],
   "source": [
    "from operator import add"
   ]
  },
  {
   "cell_type": "code",
   "execution_count": 10,
   "metadata": {},
   "outputs": [
    {
     "data": {
      "text/plain": [
       "[['fd50c4007b68a3737fe052d5a4f78ce8aa117f3d']]"
      ]
     },
     "execution_count": 10,
     "metadata": {},
     "output_type": "execute_result"
    }
   ],
   "source": [
    "## Read user file into RDD\n",
    "users_rdd = sc.textFile(r\"kaggle_users.txt\") \\\n",
    "    .map(lambda line: line.split(\"\\n\")) \n",
    "\n",
    "users_rdd.take(1)"
   ]
  },
  {
   "cell_type": "code",
   "execution_count": 11,
   "metadata": {},
   "outputs": [
    {
     "data": {
      "text/plain": [
       "[('fd50c4007b68a3737fe052d5a4f78ce8aa117f3d', 1)]"
      ]
     },
     "execution_count": 11,
     "metadata": {},
     "output_type": "execute_result"
    }
   ],
   "source": [
    "## Make user ID the key for triplet RDD\n",
    "triplet_user_rdd = triplet_rdd.map(lambda x : (x[0], int(x[2])))\n",
    "triplet_user_rdd.take(1)"
   ]
  },
  {
   "cell_type": "code",
   "execution_count": 12,
   "metadata": {},
   "outputs": [
    {
     "data": {
      "text/plain": [
       "[('d7083f5e1d50c264277d624340edaaf3dc16095b', 17),\n",
       " ('d68dc6fc25248234590d7668a11e3335534ae4b4', 6),\n",
       " ('fdf6afb5daefb42774617cf223475c6013969724', 10)]"
      ]
     },
     "execution_count": 12,
     "metadata": {},
     "output_type": "execute_result"
    }
   ],
   "source": [
    "## Reduce By Key to add the number of plays (x[2]), for each user\n",
    "sum_rdd = triplet_user_rdd.reduceByKey(add)\n",
    "sum_rdd.take(3)"
   ]
  },
  {
   "cell_type": "code",
   "execution_count": 26,
   "metadata": {},
   "outputs": [
    {
     "data": {
      "text/plain": [
       "[('16', ['32cf63cf65787ce7e72fc7fda6ee585979af6582', '1']),\n",
       " ('16', ['d1b88940eabd4fab860edf68f0f0842e4f902c78', '1'])]"
      ]
     },
     "execution_count": 26,
     "metadata": {},
     "output_type": "execute_result"
    }
   ],
   "source": [
    "## Get rid of rows that do not have a play count\n",
    "no_none_rdd = replaced_rdd.filter(lambda x : x[1] is not None )\n",
    "no_none_rdd.take(2)"
   ]
  },
  {
   "cell_type": "code",
   "execution_count": 28,
   "metadata": {},
   "outputs": [
    {
     "data": {
      "text/plain": [
       "[('32cf63cf65787ce7e72fc7fda6ee585979af6582', ('16', '1')),\n",
       " ('d1b88940eabd4fab860edf68f0f0842e4f902c78', ('16', '1'))]"
      ]
     },
     "execution_count": 28,
     "metadata": {},
     "output_type": "execute_result"
    }
   ],
   "source": [
    "## Reorder to make username the key\n",
    "user_key_rdd = no_none_rdd.map(lambda x : (x[1][0], (x[0], x[1][1])))\n",
    "user_key_rdd.take(2)"
   ]
  },
  {
   "cell_type": "code",
   "execution_count": 29,
   "metadata": {},
   "outputs": [
    {
     "data": {
      "text/plain": [
       "[('6530c4fc41b9110de5d39fe0355fa103c66385f0', (44, ('36681', '5'))),\n",
       " ('6530c4fc41b9110de5d39fe0355fa103c66385f0', (44, ('75497', '8')))]"
      ]
     },
     "execution_count": 29,
     "metadata": {},
     "output_type": "execute_result"
    }
   ],
   "source": [
    "## Join sum_rdd with user_key_rdd \n",
    "joined_user_sum = sum_rdd.leftOuterJoin(user_key_rdd)\n",
    "joined_user_sum.take(2)\n",
    "## (username, (number of times that user played songs, (song ID, number of times that song was played)))"
   ]
  },
  {
   "cell_type": "code",
   "execution_count": 33,
   "metadata": {},
   "outputs": [
    {
     "data": {
      "text/plain": [
       "[('6530c4fc41b9110de5d39fe0355fa103c66385f0', '36681', 0.11363636363636363),\n",
       " ('6530c4fc41b9110de5d39fe0355fa103c66385f0', '75497', 0.18181818181818182)]"
      ]
     },
     "execution_count": 33,
     "metadata": {},
     "output_type": "execute_result"
    }
   ],
   "source": [
    "## Divide # of times that song was played by total number of times a user played all songs\n",
    "rating_rdd = joined_user_sum.map(lambda x : (x[0], x[1][1][0], int(x[1][1][1])/int(x[1][0])))\n",
    "rating_rdd.take(2)"
   ]
  },
  {
   "cell_type": "code",
   "execution_count": 89,
   "metadata": {},
   "outputs": [
    {
     "data": {
      "text/plain": [
       "[('6530c4fc41b9110de5d39fe0355fa103c66385f0', '36681', 7.825248278515839),\n",
       " ('6530c4fc41b9110de5d39fe0355fa103c66385f0', '75497', 8.295251907761575),\n",
       " ('6530c4fc41b9110de5d39fe0355fa103c66385f0', '245936', 7.3144226547498485),\n",
       " ('6530c4fc41b9110de5d39fe0355fa103c66385f0', '383719', 6.2158103660817385),\n",
       " ('6530c4fc41b9110de5d39fe0355fa103c66385f0', '129546', 8.161720515137052)]"
      ]
     },
     "execution_count": 89,
     "metadata": {},
     "output_type": "execute_result"
    }
   ],
   "source": [
    "## Normalize the ratings\n",
    "import math\n",
    "normalized_rdd = rating_rdd.map(lambda x : (x[0], x[1], 10+math.log(x[2])))\n",
    "normalized_rdd.take(5)"
   ]
  },
  {
   "cell_type": "markdown",
   "metadata": {},
   "source": [
    "## Step 3: \n",
    "For a given user_id, rating, recommend 5 other songs from the list. One way to do this is based on another user who liked the same song liked by this user with rating more than the given rating and recommend the 5 songs based on the matched user's rating. "
   ]
  },
  {
   "cell_type": "code",
   "execution_count": 40,
   "metadata": {},
   "outputs": [],
   "source": [
    "## Inputs\n",
    "givenUserId = '6530c4fc41b9110de5d39fe0355fa103c66385f0';\n",
    "givenSongId = '36681';\n",
    "givenRating = 7.825248278515839;"
   ]
  },
  {
   "cell_type": "code",
   "execution_count": 49,
   "metadata": {},
   "outputs": [
    {
     "data": {
      "text/plain": [
       "[('6530c4fc41b9110de5d39fe0355fa103c66385f0', ['36681', 7.825248278515839]),\n",
       " ('6530c4fc41b9110de5d39fe0355fa103c66385f0', ['75497', 8.295251907761575])]"
      ]
     },
     "execution_count": 49,
     "metadata": {},
     "output_type": "execute_result"
    }
   ],
   "source": [
    "## Reformat normalized_rdd\n",
    "reformatted_rdd = normalized_rdd.map(lambda x : (x[0], [x[1], x[2]]))\n",
    "reformatted_rdd.take(2)"
   ]
  },
  {
   "cell_type": "code",
   "execution_count": 60,
   "metadata": {},
   "outputs": [
    {
     "data": {
      "text/plain": [
       "[('6385fa76b90e95f49909701b5effcdc17ea3bc0a', ['36681', 8.208240530771945]),\n",
       " ('af71c172969f8918b58b7d160177e5e332332bc5', ['36681', 8.3905620875659])]"
      ]
     },
     "execution_count": 60,
     "metadata": {},
     "output_type": "execute_result"
    }
   ],
   "source": [
    "## Function to find users that liked the same song more than the given user\n",
    "def liked(col):\n",
    "    if ((col[0] != '') and (col[1][0] == givenSongId) and (float(col[1][1]) > givenRating)): #does the movie id match, rating higher?\n",
    "        return True\n",
    "    return False\n",
    "\n",
    "## We just need the users that have liked that song more than given user\n",
    "matched_users_rdd = reformatted_rdd.filter(liked)\n",
    "matched_users_rdd.take(2)\n",
    "\n",
    "## These are the users that we are focusing on - these users like the song more than given user"
   ]
  },
  {
   "cell_type": "code",
   "execution_count": 61,
   "metadata": {},
   "outputs": [
    {
     "data": {
      "text/plain": [
       "[('6385fa76b90e95f49909701b5effcdc17ea3bc0a', 8.208240530771945),\n",
       " ('af71c172969f8918b58b7d160177e5e332332bc5', 8.3905620875659)]"
      ]
     },
     "execution_count": 61,
     "metadata": {},
     "output_type": "execute_result"
    }
   ],
   "source": [
    "## Get rid of song idex - same song\n",
    "just_users_rdd = matched_users_rdd.map(lambda x : (x[0], x[1][1]) )\n",
    "just_users_rdd.take(2)"
   ]
  },
  {
   "cell_type": "code",
   "execution_count": 62,
   "metadata": {},
   "outputs": [
    {
     "data": {
      "text/plain": [
       "[('6385fa76b90e95f49909701b5effcdc17ea3bc0a',\n",
       "  (['36681', 8.208240530771945], 8.208240530771945)),\n",
       " ('6385fa76b90e95f49909701b5effcdc17ea3bc0a',\n",
       "  (['288097', 8.208240530771945], 8.208240530771945))]"
      ]
     },
     "execution_count": 62,
     "metadata": {},
     "output_type": "execute_result"
    }
   ],
   "source": [
    "## Find all the songs that the users have listened to by joining\n",
    "## Inner join between reformatted_rdd and this user list - the user name needs to match with the just_users_rdd\n",
    "## Get other songs that that user has listened to!\n",
    "potential_songs = reformatted_rdd.join(just_users_rdd)\n",
    "potential_songs.take(2)"
   ]
  },
  {
   "cell_type": "code",
   "execution_count": 64,
   "metadata": {},
   "outputs": [
    {
     "data": {
      "text/plain": [
       "[('36681', ['6385fa76b90e95f49909701b5effcdc17ea3bc0a', 8.208240530771945]),\n",
       " ('288097', ['6385fa76b90e95f49909701b5effcdc17ea3bc0a', 8.208240530771945])]"
      ]
     },
     "execution_count": 64,
     "metadata": {},
     "output_type": "execute_result"
    }
   ],
   "source": [
    "## Reformat the potential songs\n",
    "reformatted_potential_rdd = potential_songs.map(lambda x : (x[1][0][0], [x[0], x[1][0][1]]))\n",
    "reformatted_potential_rdd.take(2)"
   ]
  },
  {
   "cell_type": "code",
   "execution_count": 65,
   "metadata": {},
   "outputs": [
    {
     "data": {
      "text/plain": [
       "[('288097', ['6385fa76b90e95f49909701b5effcdc17ea3bc0a', 8.208240530771945]),\n",
       " ('385781', ['6385fa76b90e95f49909701b5effcdc17ea3bc0a', 8.208240530771945])]"
      ]
     },
     "execution_count": 65,
     "metadata": {},
     "output_type": "execute_result"
    }
   ],
   "source": [
    "## Function to exclude the same song as given song, because right now in our list there is also our given song\n",
    "def notTheGivenSong(row):\n",
    "    if(row[0] != givenSongId):\n",
    "        return True\n",
    "    return False\n",
    "\n",
    "songs_without_given = reformatted_potential_rdd.filter(notTheGivenSong)\n",
    "songs_without_given.take(2)"
   ]
  },
  {
   "cell_type": "code",
   "execution_count": 75,
   "metadata": {},
   "outputs": [
    {
     "data": {
      "text/plain": [
       "[('217663', 9.393864196429684),\n",
       " ('248603', 9.21154263963573),\n",
       " ('240580', 9.18906978378367),\n",
       " ('343755', 9.152702139612796),\n",
       " ('302439', 9.083709268125846)]"
      ]
     },
     "execution_count": 75,
     "metadata": {},
     "output_type": "execute_result"
    }
   ],
   "source": [
    "## Drop the users from RDD\n",
    "songs_without_users = songs_without_given.map(lambda x : (x[0], float(x[1][1])))\n",
    "songs_without_users.takeOrdered(5, key=lambda x: -x[1])"
   ]
  },
  {
   "cell_type": "code",
   "execution_count": 74,
   "metadata": {},
   "outputs": [
    {
     "data": {
      "text/plain": [
       "[('328524', 23.75002475774052),\n",
       " ('215861', 15.030186700423998),\n",
       " ('286747', 14.96304739758637),\n",
       " ('36622', 14.36521039683075),\n",
       " ('242113', 13.750990474860476)]"
      ]
     },
     "execution_count": 74,
     "metadata": {},
     "output_type": "execute_result"
    }
   ],
   "source": [
    "## Aggregate the ratings for each song, and take the top 5 songs with the highest rating\n",
    "songs_aggregated = songs_without_users.reduceByKey(add) \n",
    "songs_aggregated.takeOrdered(5, key=lambda x: -x[1])"
   ]
  },
  {
   "cell_type": "code",
   "execution_count": 82,
   "metadata": {},
   "outputs": [
    {
     "data": {
      "text/plain": [
       "[('1', 'SOAAADD12AB018A9DD'), ('2', 'SOAAADE12A6D4F80CC')]"
      ]
     },
     "execution_count": 82,
     "metadata": {},
     "output_type": "execute_result"
    }
   ],
   "source": [
    "## Find the song names that match the top 5 song indexes\n",
    "## Reformat our songs_tuple to have the song index as key\n",
    "songs_tuple_reordered = songs_tuple_rdd.map(lambda x : (x[1], x[0]))\n",
    "songs_tuple_reordered.take(2)"
   ]
  },
  {
   "cell_type": "code",
   "execution_count": 84,
   "metadata": {},
   "outputs": [
    {
     "data": {
      "text/plain": [
       "[('281084', (8.3905620875659, 'SOSJRXV12A8C136E1B')),\n",
       " ('123485', (7.227411277760218, 'SOHTEDD12A6D4F8215'))]"
      ]
     },
     "execution_count": 84,
     "metadata": {},
     "output_type": "execute_result"
    }
   ],
   "source": [
    "## Join the song_tuple with our top 5 songs rdd\n",
    "song_names = songs_aggregated.join(songs_tuple_reordered)\n",
    "song_names.take(2)"
   ]
  },
  {
   "cell_type": "code",
   "execution_count": 85,
   "metadata": {},
   "outputs": [
    {
     "data": {
      "text/plain": [
       "[('SOSJRXV12A8C136E1B', 8.3905620875659),\n",
       " ('SOHTEDD12A6D4F8215', 7.227411277760218)]"
      ]
     },
     "execution_count": 85,
     "metadata": {},
     "output_type": "execute_result"
    }
   ],
   "source": [
    "## Reformat song_names to drop song index, and include just the song rating\n",
    "song_names_reformatted = song_names.map(lambda x : (x[1][1], x[1][0]))\n",
    "song_names_reformatted.take(2)"
   ]
  },
  {
   "cell_type": "code",
   "execution_count": 87,
   "metadata": {},
   "outputs": [
    {
     "data": {
      "text/plain": [
       "[('SOVTLQW12AB0186641', 23.75002475774052),\n",
       " ('SONVPTP12A6D4F7A34', 15.030186700423998),\n",
       " ('SOSUADS12A58A80A47', 14.96304739758637),\n",
       " ('SOCGXXL12B0B808865', 14.36521039683075),\n",
       " ('SOPQJAZ12A6310F168', 13.750990474860476)]"
      ]
     },
     "execution_count": 87,
     "metadata": {},
     "output_type": "execute_result"
    }
   ],
   "source": [
    "## Take the top five from the song names list\n",
    "song_names_reformatted.takeOrdered(5, key=lambda x : -x[1])"
   ]
  },
  {
   "cell_type": "markdown",
   "metadata": {},
   "source": [
    "## Step 4: \n",
    "1. Compute cosine similarity between all pairs of users. \n",
    "2. Sort the similarity score and print the top-5 similar users. \n",
    "3. If the top-5 user set has an user appearing more than once, ignore that pair and take the next best pair from the sorted list. \n",
    "4. For a given user_id, identify the top-5 similar users and hence song recommendations from other user's list. "
   ]
  }
 ],
 "metadata": {
  "kernelspec": {
   "display_name": "Python 3",
   "language": "python",
   "name": "python3"
  },
  "language_info": {
   "codemirror_mode": {
    "name": "ipython",
    "version": 3
   },
   "file_extension": ".py",
   "mimetype": "text/x-python",
   "name": "python",
   "nbconvert_exporter": "python",
   "pygments_lexer": "ipython3",
   "version": "3.7.3"
  }
 },
 "nbformat": 4,
 "nbformat_minor": 2
}
