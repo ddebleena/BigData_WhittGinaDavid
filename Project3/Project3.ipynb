{
  "nbformat": 4,
  "nbformat_minor": 0,
  "metadata": {
    "colab": {
      "name": "Project3.ipynb",
      "provenance": [],
      "collapsed_sections": []
    },
    "kernelspec": {
      "name": "python3",
      "display_name": "Python 3"
    }
  },
  "cells": [
    {
      "cell_type": "markdown",
      "metadata": {
        "id": "Tbfz3zSXBt3H",
        "colab_type": "text"
      },
      "source": [
        "## <p style=\"text-align: center;\">MIS 284N - Big Data and Distributed Programming</p>\n",
        "## <p style=\"text-align: center;\">Project 3 - Machine Learning using Tensorflow and Google Colab</p>\n",
        "## <p style=\"text-align: center;\">Total points: 100</p>\n",
        "## <p style=\"text-align: center;\">Due: Sunday, October 20th submitted via Canvas by 11:59 pm</p>\n",
        "\n",
        "Your homework should be written in a **Jupyter notebook**. You may work in groups of two if you wish. Only one student per team needs to submit the assignment on Canvas.  But be sure to include name and UTID for both students.\n",
        "\n",
        "Also, please make sure your code runs and the graphics (and anything else) are displayed in your notebook before submitting. (%matplotlib inline)\n",
        "\n",
        "This project is about giving exposure about Tensorflow, its usage, Cloud services and help us in understanding the time taken to run computation on CPU and GPU. \n",
        "\n",
        "In this Project, we will work with CIFAR10 image dataset. \n",
        "The starter code to download the dataste using keras is given below. \n",
        "You should run this project on Google Colab. You would be using CPU, GPU.\n",
        "Use tensorflow version 2.0. \n",
        "\n",
        "# In every line of code, please write a comment to briefly explain what that line is doing.\n",
        "Your grades will be based on your understanding of the code you write! \n",
        "\n",
        "Note: The code you write should be your own!"
      ]
    },
    {
      "cell_type": "markdown",
      "metadata": {
        "id": "RnHTzAuvxxQT",
        "colab_type": "text"
      },
      "source": [
        "# Task 1\n",
        "Convert the features in a form that can be given as input to tensorflow library/functions\n",
        "\n",
        "In this task you will perform data augmentation. That is, pre-process the data to make the model more robust. Most common data augmentation techniques are rotation, flips and histogram equalization. \n",
        "You can choose an augmentation technique of your choice. "
      ]
    },
    {
      "cell_type": "markdown",
      "metadata": {
        "id": "M6c8xzloyoUD",
        "colab_type": "text"
      },
      "source": [
        "# Task 2\n",
        "Try to build a Neural Network model, train on the features and report the accuracy.\n",
        "Report your observations on the time taken on GPU and TPUs. \n",
        "\n",
        "\n",
        "\n",
        "1.   Create a CNN based model with 5 hidden layers and 100 hidden units each layer. \n",
        "2.   Create an LSTM based model with 2 hidden layers and 1024 hidden units in each layer. \n",
        "\n"
      ]
    },
    {
      "cell_type": "code",
      "metadata": {
        "id": "LQvjBuuyxblF",
        "colab_type": "code",
        "colab": {
          "base_uri": "https://localhost:8080/",
          "height": 68
        },
        "outputId": "9e917925-3589-495e-f3e7-08e30c597627"
      },
      "source": [
        "from keras.datasets import cifar10\n",
        "\n",
        "(x_train, y_train), (x_test, y_test) = cifar10.load_data()"
      ],
      "execution_count": 1,
      "outputs": [
        {
          "output_type": "stream",
          "text": [
            "Using TensorFlow backend.\n"
          ],
          "name": "stderr"
        },
        {
          "output_type": "stream",
          "text": [
            "Downloading data from https://www.cs.toronto.edu/~kriz/cifar-10-python.tar.gz\n",
            "170500096/170498071 [==============================] - 11s 0us/step\n"
          ],
          "name": "stdout"
        }
      ]
    },
    {
      "cell_type": "markdown",
      "metadata": {
        "id": "bsE9N2WefgnI",
        "colab_type": "text"
      },
      "source": [
        "# Task 3 (Extra credit, 25 points)\n",
        "Run the above on a TPU and report the time taken to fit the models. "
      ]
    },
    {
      "cell_type": "code",
      "metadata": {
        "id": "-G4kLBWSxnrL",
        "colab_type": "code",
        "colab": {}
      },
      "source": [
        ""
      ],
      "execution_count": 0,
      "outputs": []
    }
  ]
}